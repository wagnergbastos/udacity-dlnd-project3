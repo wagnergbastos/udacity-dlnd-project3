{
 "cells": [
  {
   "cell_type": "markdown",
   "metadata": {
    "deletable": true,
    "editable": true
   },
   "source": [
    "# TV Script Generation\n",
    "In this project, you'll generate your own [Simpsons](https://en.wikipedia.org/wiki/The_Simpsons) TV scripts using RNNs.  You'll be using part of the [Simpsons dataset](https://www.kaggle.com/wcukierski/the-simpsons-by-the-data) of scripts from 27 seasons.  The Neural Network you'll build will generate a new TV script for a scene at [Moe's Tavern](https://simpsonswiki.com/wiki/Moe's_Tavern).\n",
    "## Get the Data\n",
    "The data is already provided for you.  You'll be using a subset of the original dataset.  It consists of only the scenes in Moe's Tavern.  This doesn't include other versions of the tavern, like \"Moe's Cavern\", \"Flaming Moe's\", \"Uncle Moe's Family Feed-Bag\", etc.."
   ]
  },
  {
   "cell_type": "code",
   "execution_count": 57,
   "metadata": {
    "collapsed": false,
    "deletable": true,
    "editable": true
   },
   "outputs": [],
   "source": [
    "\"\"\"\n",
    "DON'T MODIFY ANYTHING IN THIS CELL\n",
    "\"\"\"\n",
    "import helper\n",
    "\n",
    "data_dir = './data/simpsons/moes_tavern_lines.txt'\n",
    "text = helper.load_data(data_dir)\n",
    "# Ignore notice, since we don't use it for analysing the data\n",
    "text = text[81:]"
   ]
  },
  {
   "cell_type": "markdown",
   "metadata": {
    "deletable": true,
    "editable": true
   },
   "source": [
    "## Explore the Data\n",
    "Play around with `view_sentence_range` to view different parts of the data."
   ]
  },
  {
   "cell_type": "code",
   "execution_count": 58,
   "metadata": {
    "collapsed": false,
    "deletable": true,
    "editable": true
   },
   "outputs": [
    {
     "name": "stdout",
     "output_type": "stream",
     "text": [
      "Dataset Stats\n",
      "Roughly the number of unique words: 11492\n",
      "Number of scenes: 262\n",
      "Average number of sentences in each scene: 15.251908396946565\n",
      "Number of lines: 4258\n",
      "Average number of words in each line: 11.50164396430249\n",
      "\n",
      "The sentences 0 to 10:\n",
      "\n",
      "Moe_Szyslak: (INTO PHONE) Moe's Tavern. Where the elite meet to drink.\n",
      "Bart_Simpson: Eh, yeah, hello, is Mike there? Last name, Rotch.\n",
      "Moe_Szyslak: (INTO PHONE) Hold on, I'll check. (TO BARFLIES) Mike Rotch. Mike Rotch. Hey, has anybody seen Mike Rotch, lately?\n",
      "Moe_Szyslak: (INTO PHONE) Listen you little puke. One of these days I'm gonna catch you, and I'm gonna carve my name on your back with an ice pick.\n",
      "Moe_Szyslak: What's the matter Homer? You're not your normal effervescent self.\n",
      "Homer_Simpson: I got my problems, Moe. Give me another one.\n",
      "Moe_Szyslak: Homer, hey, you should not drink to forget your problems.\n",
      "Barney_Gumble: Yeah, you should only drink to enhance your social skills.\n",
      "\n"
     ]
    }
   ],
   "source": [
    "view_sentence_range = (0, 10)\n",
    "\n",
    "\"\"\"\n",
    "DON'T MODIFY ANYTHING IN THIS CELL\n",
    "\"\"\"\n",
    "import numpy as np\n",
    "\n",
    "print('Dataset Stats')\n",
    "print('Roughly the number of unique words: {}'.format(len({word: None for word in text.split()})))\n",
    "scenes = text.split('\\n\\n')\n",
    "print('Number of scenes: {}'.format(len(scenes)))\n",
    "sentence_count_scene = [scene.count('\\n') for scene in scenes]\n",
    "print('Average number of sentences in each scene: {}'.format(np.average(sentence_count_scene)))\n",
    "\n",
    "sentences = [sentence for scene in scenes for sentence in scene.split('\\n')]\n",
    "print('Number of lines: {}'.format(len(sentences)))\n",
    "word_count_sentence = [len(sentence.split()) for sentence in sentences]\n",
    "print('Average number of words in each line: {}'.format(np.average(word_count_sentence)))\n",
    "\n",
    "print()\n",
    "print('The sentences {} to {}:'.format(*view_sentence_range))\n",
    "print('\\n'.join(text.split('\\n')[view_sentence_range[0]:view_sentence_range[1]]))"
   ]
  },
  {
   "cell_type": "markdown",
   "metadata": {
    "deletable": true,
    "editable": true
   },
   "source": [
    "## Implement Preprocessing Functions\n",
    "The first thing to do to any dataset is preprocessing.  Implement the following preprocessing functions below:\n",
    "- Lookup Table\n",
    "- Tokenize Punctuation\n",
    "\n",
    "### Lookup Table\n",
    "To create a word embedding, you first need to transform the words to ids.  In this function, create two dictionaries:\n",
    "- Dictionary to go from the words to an id, we'll call `vocab_to_int`\n",
    "- Dictionary to go from the id to word, we'll call `int_to_vocab`\n",
    "\n",
    "Return these dictionaries in the following tuple `(vocab_to_int, int_to_vocab)`"
   ]
  },
  {
   "cell_type": "code",
   "execution_count": 59,
   "metadata": {
    "collapsed": false,
    "deletable": true,
    "editable": true
   },
   "outputs": [
    {
     "name": "stdout",
     "output_type": "stream",
     "text": [
      "Tests Passed\n"
     ]
    }
   ],
   "source": [
    "import numpy as np\n",
    "import problem_unittests as tests\n",
    "\n",
    "def create_lookup_tables(text):\n",
    "    \"\"\"\n",
    "    Create lookup tables for vocabulary\n",
    "    :param text: The text of tv scripts split into words\n",
    "    :return: A tuple of dicts (vocab_to_int, int_to_vocab)\n",
    "    \"\"\"\n",
    "    # TODO: Implement Function\n",
    "    vocab=set(text)\n",
    "    vocab_to_int={word:integer for integer,word in enumerate(vocab)}\n",
    "    int_to_vocab={integer:word for integer,word in enumerate(vocab)}\n",
    "    return vocab_to_int, int_to_vocab\n",
    "\n",
    "\"\"\"\n",
    "DON'T MODIFY ANYTHING IN THIS CELL THAT IS BELOW THIS LINE\n",
    "\"\"\"\n",
    "tests.test_create_lookup_tables(create_lookup_tables)"
   ]
  },
  {
   "cell_type": "markdown",
   "metadata": {
    "deletable": true,
    "editable": true
   },
   "source": [
    "### Tokenize Punctuation\n",
    "We'll be splitting the script into a word array using spaces as delimiters.  However, punctuations like periods and exclamation marks make it hard for the neural network to distinguish between the word \"bye\" and \"bye!\".\n",
    "\n",
    "Implement the function `token_lookup` to return a dict that will be used to tokenize symbols like \"!\" into \"||Exclamation_Mark||\".  Create a dictionary for the following symbols where the symbol is the key and value is the token:\n",
    "- Period ( . )\n",
    "- Comma ( , )\n",
    "- Quotation Mark ( \" )\n",
    "- Semicolon ( ; )\n",
    "- Exclamation mark ( ! )\n",
    "- Question mark ( ? )\n",
    "- Left Parentheses ( ( )\n",
    "- Right Parentheses ( ) )\n",
    "- Dash ( -- )\n",
    "- Return ( \\n )\n",
    "\n",
    "This dictionary will be used to token the symbols and add the delimiter (space) around it.  This separates the symbols as it's own word, making it easier for the neural network to predict on the next word. Make sure you don't use a token that could be confused as a word. Instead of using the token \"dash\", try using something like \"||dash||\"."
   ]
  },
  {
   "cell_type": "code",
   "execution_count": 60,
   "metadata": {
    "collapsed": false,
    "deletable": true,
    "editable": true
   },
   "outputs": [
    {
     "name": "stdout",
     "output_type": "stream",
     "text": [
      "Tests Passed\n"
     ]
    }
   ],
   "source": [
    "def token_lookup():\n",
    "    \"\"\"\n",
    "    Generate a dict to turn punctuation into a token.\n",
    "    :return: Tokenize dictionary where the key is the punctuation and the value is the token\n",
    "    \"\"\"\n",
    "    # TODO: Implement Function\n",
    "    return {\n",
    "            '.' : '||period||',\n",
    "            ',' : '||comma||',\n",
    "            '\"' : '||quotation_mark||',\n",
    "            ';' : '||semicolon||',\n",
    "            '!' : '||esclamation_mark||',\n",
    "            '?' : '||question_mark||',\n",
    "            '(' : '||left_parentheses||',\n",
    "            ')' : '||right_parentheses||',\n",
    "            '--': '||dash||',\n",
    "            '\\n': '||return||'\n",
    "           }\n",
    "\n",
    "\"\"\"\n",
    "DON'T MODIFY ANYTHING IN THIS CELL THAT IS BELOW THIS LINE\n",
    "\"\"\"\n",
    "tests.test_tokenize(token_lookup)"
   ]
  },
  {
   "cell_type": "markdown",
   "metadata": {
    "deletable": true,
    "editable": true
   },
   "source": [
    "## Preprocess all the data and save it\n",
    "Running the code cell below will preprocess all the data and save it to file."
   ]
  },
  {
   "cell_type": "code",
   "execution_count": 61,
   "metadata": {
    "collapsed": false,
    "deletable": true,
    "editable": true
   },
   "outputs": [],
   "source": [
    "\"\"\"\n",
    "DON'T MODIFY ANYTHING IN THIS CELL\n",
    "\"\"\"\n",
    "# Preprocess Training, Validation, and Testing Data\n",
    "helper.preprocess_and_save_data(data_dir, token_lookup, create_lookup_tables)"
   ]
  },
  {
   "cell_type": "markdown",
   "metadata": {
    "deletable": true,
    "editable": true
   },
   "source": [
    "# Check Point\n",
    "This is your first checkpoint. If you ever decide to come back to this notebook or have to restart the notebook, you can start from here. The preprocessed data has been saved to disk."
   ]
  },
  {
   "cell_type": "code",
   "execution_count": 62,
   "metadata": {
    "collapsed": false,
    "deletable": true,
    "editable": true
   },
   "outputs": [],
   "source": [
    "\"\"\"\n",
    "DON'T MODIFY ANYTHING IN THIS CELL\n",
    "\"\"\"\n",
    "import helper\n",
    "import numpy as np\n",
    "import problem_unittests as tests\n",
    "\n",
    "int_text, vocab_to_int, int_to_vocab, token_dict = helper.load_preprocess()"
   ]
  },
  {
   "cell_type": "markdown",
   "metadata": {
    "deletable": true,
    "editable": true
   },
   "source": [
    "## Build the Neural Network\n",
    "You'll build the components necessary to build a RNN by implementing the following functions below:\n",
    "- get_inputs\n",
    "- get_init_cell\n",
    "- get_embed\n",
    "- build_rnn\n",
    "- build_nn\n",
    "- get_batches\n",
    "\n",
    "### Check the Version of TensorFlow and Access to GPU"
   ]
  },
  {
   "cell_type": "code",
   "execution_count": 63,
   "metadata": {
    "collapsed": false,
    "deletable": true,
    "editable": true
   },
   "outputs": [
    {
     "name": "stdout",
     "output_type": "stream",
     "text": [
      "TensorFlow Version: 1.0.0\n"
     ]
    },
    {
     "name": "stderr",
     "output_type": "stream",
     "text": [
      "c:\\users\\administrador.000\\appdata\\local\\conda\\conda\\envs\\p3\\lib\\site-packages\\ipykernel\\__main__.py:14: UserWarning: No GPU found. Please use a GPU to train your neural network.\n"
     ]
    }
   ],
   "source": [
    "\"\"\"\n",
    "DON'T MODIFY ANYTHING IN THIS CELL\n",
    "\"\"\"\n",
    "from distutils.version import LooseVersion\n",
    "import warnings\n",
    "import tensorflow as tf\n",
    "\n",
    "# Check TensorFlow Version\n",
    "assert LooseVersion(tf.__version__) >= LooseVersion('1.0'), 'Please use TensorFlow version 1.0 or newer'\n",
    "print('TensorFlow Version: {}'.format(tf.__version__))\n",
    "\n",
    "# Check for a GPU\n",
    "if not tf.test.gpu_device_name():\n",
    "    warnings.warn('No GPU found. Please use a GPU to train your neural network.')\n",
    "else:\n",
    "    print('Default GPU Device: {}'.format(tf.test.gpu_device_name()))"
   ]
  },
  {
   "cell_type": "markdown",
   "metadata": {
    "deletable": true,
    "editable": true
   },
   "source": [
    "### Input\n",
    "Implement the `get_inputs()` function to create TF Placeholders for the Neural Network.  It should create the following placeholders:\n",
    "- Input text placeholder named \"input\" using the [TF Placeholder](https://www.tensorflow.org/api_docs/python/tf/placeholder) `name` parameter.\n",
    "- Targets placeholder\n",
    "- Learning Rate placeholder\n",
    "\n",
    "Return the placeholders in the following tuple `(Input, Targets, LearningRate)`"
   ]
  },
  {
   "cell_type": "code",
   "execution_count": 64,
   "metadata": {
    "collapsed": false,
    "deletable": true,
    "editable": true
   },
   "outputs": [
    {
     "name": "stdout",
     "output_type": "stream",
     "text": [
      "Tests Passed\n"
     ]
    }
   ],
   "source": [
    "def get_inputs():\n",
    "    \"\"\"\n",
    "    Create TF Placeholders for input, targets, and learning rate.\n",
    "    :return: Tuple (input, targets, learning rate)\n",
    "    \"\"\"\n",
    "    # TODO: Implement Function\n",
    "    inputs = tf.placeholder(tf.int32, [None, None], name='input')\n",
    "    targets = tf.placeholder(tf.int32, [None, None], name='targets')\n",
    "    learning_rate = tf.placeholder(tf.float32, None, name='learning_rate')\n",
    "    return inputs, targets, learning_rate\n",
    "\n",
    "\"\"\"\n",
    "DON'T MODIFY ANYTHING IN THIS CELL THAT IS BELOW THIS LINE\n",
    "\"\"\"\n",
    "tests.test_get_inputs(get_inputs)"
   ]
  },
  {
   "cell_type": "markdown",
   "metadata": {
    "deletable": true,
    "editable": true
   },
   "source": [
    "### Build RNN Cell and Initialize\n",
    "Stack one or more [`BasicLSTMCells`](https://www.tensorflow.org/api_docs/python/tf/contrib/rnn/BasicLSTMCell) in a [`MultiRNNCell`](https://www.tensorflow.org/api_docs/python/tf/contrib/rnn/MultiRNNCell).\n",
    "- The Rnn size should be set using `rnn_size`\n",
    "- Initalize Cell State using the MultiRNNCell's [`zero_state()`](https://www.tensorflow.org/api_docs/python/tf/contrib/rnn/MultiRNNCell#zero_state) function\n",
    "    - Apply the name \"initial_state\" to the initial state using [`tf.identity()`](https://www.tensorflow.org/api_docs/python/tf/identity)\n",
    "\n",
    "Return the cell and initial state in the following tuple `(Cell, InitialState)`"
   ]
  },
  {
   "cell_type": "code",
   "execution_count": 65,
   "metadata": {
    "collapsed": false,
    "deletable": true,
    "editable": true
   },
   "outputs": [
    {
     "name": "stdout",
     "output_type": "stream",
     "text": [
      "Tests Passed\n"
     ]
    }
   ],
   "source": [
    "def get_init_cell(batch_size, rnn_size):\n",
    "    \"\"\"\n",
    "    Create an RNN Cell and initialize it.\n",
    "    :param batch_size: Size of batches\n",
    "    :param rnn_size: Size of RNNs\n",
    "    :return: Tuple (cell, initialize state)\n",
    "    \"\"\"\n",
    "    # TODO: Implement Function\n",
    "    cell = tf.contrib.rnn.MultiRNNCell([tf.contrib.rnn.BasicLSTMCell(rnn_size)])\n",
    "    initial_state = tf.identity(cell.zero_state(batch_size, tf.float32),name=\"initial_state\")\n",
    "    return cell, initial_state\n",
    "\n",
    "\"\"\"\n",
    "DON'T MODIFY ANYTHING IN THIS CELL THAT IS BELOW THIS LINE\n",
    "\"\"\"\n",
    "tests.test_get_init_cell(get_init_cell)"
   ]
  },
  {
   "cell_type": "markdown",
   "metadata": {
    "deletable": true,
    "editable": true
   },
   "source": [
    "### Word Embedding\n",
    "Apply embedding to `input_data` using TensorFlow.  Return the embedded sequence."
   ]
  },
  {
   "cell_type": "code",
   "execution_count": 66,
   "metadata": {
    "collapsed": false,
    "deletable": true,
    "editable": true
   },
   "outputs": [
    {
     "name": "stdout",
     "output_type": "stream",
     "text": [
      "Tests Passed\n"
     ]
    }
   ],
   "source": [
    "def get_embed(input_data, vocab_size, embed_dim):\n",
    "    \"\"\"\n",
    "    Create embedding for <input_data>.\n",
    "    :param input_data: TF placeholder for text input.\n",
    "    :param vocab_size: Number of words in vocabulary.\n",
    "    :param embed_dim: Number of embedding dimensions\n",
    "    :return: Embedded input.\n",
    "    \"\"\"\n",
    "    # TODO: Implement Function\n",
    "    embedding = tf.Variable(tf.random_uniform((vocab_size, embed_dim), -1, 1))\n",
    "    embed = tf.nn.embedding_lookup(embedding, input_data)\n",
    "    return embed\n",
    "\n",
    "\"\"\"\n",
    "DON'T MODIFY ANYTHING IN THIS CELL THAT IS BELOW THIS LINE\n",
    "\"\"\"\n",
    "tests.test_get_embed(get_embed)"
   ]
  },
  {
   "cell_type": "markdown",
   "metadata": {
    "deletable": true,
    "editable": true
   },
   "source": [
    "### Build RNN\n",
    "You created a RNN Cell in the `get_init_cell()` function.  Time to use the cell to create a RNN.\n",
    "- Build the RNN using the [`tf.nn.dynamic_rnn()`](https://www.tensorflow.org/api_docs/python/tf/nn/dynamic_rnn)\n",
    " - Apply the name \"final_state\" to the final state using [`tf.identity()`](https://www.tensorflow.org/api_docs/python/tf/identity)\n",
    "\n",
    "Return the outputs and final_state state in the following tuple `(Outputs, FinalState)` "
   ]
  },
  {
   "cell_type": "code",
   "execution_count": 67,
   "metadata": {
    "collapsed": false,
    "deletable": true,
    "editable": true
   },
   "outputs": [
    {
     "name": "stdout",
     "output_type": "stream",
     "text": [
      "Tests Passed\n"
     ]
    }
   ],
   "source": [
    "def build_rnn(cell, inputs):\n",
    "    \"\"\"\n",
    "    Create a RNN using a RNN Cell\n",
    "    :param cell: RNN Cell\n",
    "    :param inputs: Input text data\n",
    "    :return: Tuple (Outputs, Final State)\n",
    "    \"\"\"\n",
    "    # TODO: Implement Function\n",
    "    outputs, state = tf.nn.dynamic_rnn(cell, inputs, dtype=tf.float32)\n",
    "    final_state = tf.identity(state, name='final_state')\n",
    "    return outputs, final_state\n",
    "\n",
    "\"\"\"\n",
    "DON'T MODIFY ANYTHING IN THIS CELL THAT IS BELOW THIS LINE\n",
    "\"\"\"\n",
    "tests.test_build_rnn(build_rnn)"
   ]
  },
  {
   "cell_type": "markdown",
   "metadata": {
    "deletable": true,
    "editable": true
   },
   "source": [
    "### Build the Neural Network\n",
    "Apply the functions you implemented above to:\n",
    "- Apply embedding to `input_data` using your `get_embed(input_data, vocab_size, embed_dim)` function.\n",
    "- Build RNN using `cell` and your `build_rnn(cell, inputs)` function.\n",
    "- Apply a fully connected layer with a linear activation and `vocab_size` as the number of outputs.\n",
    "\n",
    "Return the logits and final state in the following tuple (Logits, FinalState) "
   ]
  },
  {
   "cell_type": "code",
   "execution_count": 68,
   "metadata": {
    "collapsed": false,
    "deletable": true,
    "editable": true
   },
   "outputs": [
    {
     "name": "stdout",
     "output_type": "stream",
     "text": [
      "Tests Passed\n"
     ]
    }
   ],
   "source": [
    "def build_nn(cell, rnn_size, input_data, vocab_size, embed_dim):\n",
    "    \"\"\"\n",
    "    Build part of the neural network\n",
    "    :param cell: RNN cell\n",
    "    :param rnn_size: Size of rnns\n",
    "    :param input_data: Input data\n",
    "    :param vocab_size: Vocabulary size\n",
    "    :param embed_dim: Number of embedding dimensions\n",
    "    :return: Tuple (Logits, FinalState)\n",
    "    \"\"\"\n",
    "    # TODO: Implement Function\n",
    "    embed = get_embed(input_data, vocab_size, rnn_size)\n",
    "    outputs, final_state = build_rnn(cell, embed)\n",
    "    logits = tf.contrib.layers.fully_connected(outputs, vocab_size, activation_fn=None)\n",
    "    return logits, final_state\n",
    "\n",
    "\"\"\"\n",
    "DON'T MODIFY ANYTHING IN THIS CELL THAT IS BELOW THIS LINE\n",
    "\"\"\"\n",
    "tests.test_build_nn(build_nn)"
   ]
  },
  {
   "cell_type": "markdown",
   "metadata": {
    "deletable": true,
    "editable": true
   },
   "source": [
    "### Batches\n",
    "Implement `get_batches` to create batches of input and targets using `int_text`.  The batches should be a Numpy array with the shape `(number of batches, 2, batch size, sequence length)`. Each batch contains two elements:\n",
    "- The first element is a single batch of **input** with the shape `[batch size, sequence length]`\n",
    "- The second element is a single batch of **targets** with the shape `[batch size, sequence length]`\n",
    "\n",
    "If you can't fill the last batch with enough data, drop the last batch.\n",
    "\n",
    "For exmple, `get_batches([1, 2, 3, 4, 5, 6, 7, 8, 9, 10, 11, 12, 13, 14, 15, 16, 17, 18, 19, 20], 3, 2)` would return a Numpy array of the following:\n",
    "```\n",
    "[\n",
    "  # First Batch\n",
    "  [\n",
    "    # Batch of Input\n",
    "    [[ 1  2], [ 7  8], [13 14]]\n",
    "    # Batch of targets\n",
    "    [[ 2  3], [ 8  9], [14 15]]\n",
    "  ]\n",
    "\n",
    "  # Second Batch\n",
    "  [\n",
    "    # Batch of Input\n",
    "    [[ 3  4], [ 9 10], [15 16]]\n",
    "    # Batch of targets\n",
    "    [[ 4  5], [10 11], [16 17]]\n",
    "  ]\n",
    "\n",
    "  # Third Batch\n",
    "  [\n",
    "    # Batch of Input\n",
    "    [[ 5  6], [11 12], [17 18]]\n",
    "    # Batch of targets\n",
    "    [[ 6  7], [12 13], [18  1]]\n",
    "  ]\n",
    "]\n",
    "```\n",
    "\n",
    "Notice that the last target value in the last batch is the first input value of the first batch. In this case, `1`. This is a common technique used when creating sequence batches, although it is rather unintuitive."
   ]
  },
  {
   "cell_type": "code",
   "execution_count": 69,
   "metadata": {
    "collapsed": false,
    "deletable": true,
    "editable": true
   },
   "outputs": [
    {
     "name": "stdout",
     "output_type": "stream",
     "text": [
      "Tests Passed\n"
     ]
    }
   ],
   "source": [
    "def get_batches(int_text, batch_size, seq_length):\n",
    "    \"\"\"\n",
    "    Return batches of input and target\n",
    "    :param int_text: Text with the words replaced by their ids\n",
    "    :param batch_size: The size of batch\n",
    "    :param seq_length: The length of sequence\n",
    "    :return: Batches as a Numpy array\n",
    "    \"\"\"\n",
    "\n",
    "    # TODO: Implement Function\n",
    "    n_batches = int(len(int_text) / (batch_size * seq_length))\n",
    "    i = np.array(int_text[: n_batches * batch_size * seq_length])\n",
    "    t = np.roll(i,-1)\n",
    "    i_batches = np.split(i.reshape(batch_size, -1), n_batches, 1)\n",
    "    t_batches = np.split(t.reshape(batch_size, -1), n_batches, 1)\n",
    "    return np.array(list(zip(i_batches, t_batches)))\n",
    "\n",
    "\"\"\"\n",
    "DON'T MODIFY ANYTHING IN THIS CELL THAT IS BELOW THIS LINE\n",
    "\"\"\"\n",
    "tests.test_get_batches(get_batches)"
   ]
  },
  {
   "cell_type": "markdown",
   "metadata": {
    "deletable": true,
    "editable": true
   },
   "source": [
    "## Neural Network Training\n",
    "### Hyperparameters\n",
    "Tune the following parameters:\n",
    "\n",
    "- Set `num_epochs` to the number of epochs.\n",
    "- Set `batch_size` to the batch size.\n",
    "- Set `rnn_size` to the size of the RNNs.\n",
    "- Set `embed_dim` to the size of the embedding.\n",
    "- Set `seq_length` to the length of sequence.\n",
    "- Set `learning_rate` to the learning rate.\n",
    "- Set `show_every_n_batches` to the number of batches the neural network should print progress."
   ]
  },
  {
   "cell_type": "code",
   "execution_count": 70,
   "metadata": {
    "collapsed": true,
    "deletable": true,
    "editable": true
   },
   "outputs": [],
   "source": [
    "# Number of Epochs\n",
    "num_epochs = 100\n",
    "# Batch Size\n",
    "batch_size = 128\n",
    "# RNN Size\n",
    "rnn_size = 128\n",
    "# Embedding Dimension Size\n",
    "embed_dim = 20\n",
    "# Sequence Length\n",
    "seq_length = 20\n",
    "# Learning Rate\n",
    "learning_rate = 0.01\n",
    "# Show stats for every n number of batches\n",
    "show_every_n_batches = 10\n",
    "\n",
    "\"\"\"\n",
    "DON'T MODIFY ANYTHING IN THIS CELL THAT IS BELOW THIS LINE\n",
    "\"\"\"\n",
    "save_dir = './save'"
   ]
  },
  {
   "cell_type": "markdown",
   "metadata": {
    "deletable": true,
    "editable": true
   },
   "source": [
    "### Build the Graph\n",
    "Build the graph using the neural network you implemented."
   ]
  },
  {
   "cell_type": "code",
   "execution_count": 71,
   "metadata": {
    "collapsed": false,
    "deletable": true,
    "editable": true
   },
   "outputs": [],
   "source": [
    "\"\"\"\n",
    "DON'T MODIFY ANYTHING IN THIS CELL\n",
    "\"\"\"\n",
    "from tensorflow.contrib import seq2seq\n",
    "\n",
    "train_graph = tf.Graph()\n",
    "with train_graph.as_default():\n",
    "    vocab_size = len(int_to_vocab)\n",
    "    input_text, targets, lr = get_inputs()\n",
    "    input_data_shape = tf.shape(input_text)\n",
    "    cell, initial_state = get_init_cell(input_data_shape[0], rnn_size)\n",
    "    logits, final_state = build_nn(cell, rnn_size, input_text, vocab_size, embed_dim)\n",
    "\n",
    "    # Probabilities for generating words\n",
    "    probs = tf.nn.softmax(logits, name='probs')\n",
    "\n",
    "    # Loss function\n",
    "    cost = seq2seq.sequence_loss(\n",
    "        logits,\n",
    "        targets,\n",
    "        tf.ones([input_data_shape[0], input_data_shape[1]]))\n",
    "\n",
    "    # Optimizer\n",
    "    optimizer = tf.train.AdamOptimizer(lr)\n",
    "\n",
    "    # Gradient Clipping\n",
    "    gradients = optimizer.compute_gradients(cost)\n",
    "    capped_gradients = [(tf.clip_by_value(grad, -1., 1.), var) for grad, var in gradients if grad is not None]\n",
    "    train_op = optimizer.apply_gradients(capped_gradients)"
   ]
  },
  {
   "cell_type": "markdown",
   "metadata": {
    "deletable": true,
    "editable": true
   },
   "source": [
    "## Train\n",
    "Train the neural network on the preprocessed data.  If you have a hard time getting a good loss, check the [forms](https://discussions.udacity.com/) to see if anyone is having the same problem."
   ]
  },
  {
   "cell_type": "code",
   "execution_count": 72,
   "metadata": {
    "collapsed": false,
    "deletable": true,
    "editable": true
   },
   "outputs": [
    {
     "name": "stdout",
     "output_type": "stream",
     "text": [
      "Epoch   0 Batch    0/26   train_loss = 8.820\n",
      "Epoch   0 Batch   10/26   train_loss = 6.548\n",
      "Epoch   0 Batch   20/26   train_loss = 6.155\n",
      "Epoch   1 Batch    4/26   train_loss = 5.579\n",
      "Epoch   1 Batch   14/26   train_loss = 5.296\n",
      "Epoch   1 Batch   24/26   train_loss = 5.242\n",
      "Epoch   2 Batch    8/26   train_loss = 4.972\n",
      "Epoch   2 Batch   18/26   train_loss = 4.871\n",
      "Epoch   3 Batch    2/26   train_loss = 4.680\n",
      "Epoch   3 Batch   12/26   train_loss = 4.765\n",
      "Epoch   3 Batch   22/26   train_loss = 4.452\n",
      "Epoch   4 Batch    6/26   train_loss = 4.556\n",
      "Epoch   4 Batch   16/26   train_loss = 4.336\n",
      "Epoch   5 Batch    0/26   train_loss = 4.212\n",
      "Epoch   5 Batch   10/26   train_loss = 4.176\n",
      "Epoch   5 Batch   20/26   train_loss = 4.094\n",
      "Epoch   6 Batch    4/26   train_loss = 4.052\n",
      "Epoch   6 Batch   14/26   train_loss = 3.873\n",
      "Epoch   6 Batch   24/26   train_loss = 3.878\n",
      "Epoch   7 Batch    8/26   train_loss = 3.805\n",
      "Epoch   7 Batch   18/26   train_loss = 3.736\n",
      "Epoch   8 Batch    2/26   train_loss = 3.625\n",
      "Epoch   8 Batch   12/26   train_loss = 3.687\n",
      "Epoch   8 Batch   22/26   train_loss = 3.477\n",
      "Epoch   9 Batch    6/26   train_loss = 3.600\n",
      "Epoch   9 Batch   16/26   train_loss = 3.433\n",
      "Epoch  10 Batch    0/26   train_loss = 3.362\n",
      "Epoch  10 Batch   10/26   train_loss = 3.376\n",
      "Epoch  10 Batch   20/26   train_loss = 3.249\n",
      "Epoch  11 Batch    4/26   train_loss = 3.324\n",
      "Epoch  11 Batch   14/26   train_loss = 3.200\n",
      "Epoch  11 Batch   24/26   train_loss = 3.153\n",
      "Epoch  12 Batch    8/26   train_loss = 3.141\n",
      "Epoch  12 Batch   18/26   train_loss = 3.085\n",
      "Epoch  13 Batch    2/26   train_loss = 3.029\n",
      "Epoch  13 Batch   12/26   train_loss = 3.046\n",
      "Epoch  13 Batch   22/26   train_loss = 2.930\n",
      "Epoch  14 Batch    6/26   train_loss = 2.990\n",
      "Epoch  14 Batch   16/26   train_loss = 2.966\n",
      "Epoch  15 Batch    0/26   train_loss = 2.871\n",
      "Epoch  15 Batch   10/26   train_loss = 2.881\n",
      "Epoch  15 Batch   20/26   train_loss = 2.747\n",
      "Epoch  16 Batch    4/26   train_loss = 2.864\n",
      "Epoch  16 Batch   14/26   train_loss = 2.751\n",
      "Epoch  16 Batch   24/26   train_loss = 2.690\n",
      "Epoch  17 Batch    8/26   train_loss = 2.707\n",
      "Epoch  17 Batch   18/26   train_loss = 2.653\n",
      "Epoch  18 Batch    2/26   train_loss = 2.637\n",
      "Epoch  18 Batch   12/26   train_loss = 2.609\n",
      "Epoch  18 Batch   22/26   train_loss = 2.534\n",
      "Epoch  19 Batch    6/26   train_loss = 2.572\n",
      "Epoch  19 Batch   16/26   train_loss = 2.574\n",
      "Epoch  20 Batch    0/26   train_loss = 2.492\n",
      "Epoch  20 Batch   10/26   train_loss = 2.552\n",
      "Epoch  20 Batch   20/26   train_loss = 2.395\n",
      "Epoch  21 Batch    4/26   train_loss = 2.527\n",
      "Epoch  21 Batch   14/26   train_loss = 2.432\n",
      "Epoch  21 Batch   24/26   train_loss = 2.358\n",
      "Epoch  22 Batch    8/26   train_loss = 2.352\n",
      "Epoch  22 Batch   18/26   train_loss = 2.353\n",
      "Epoch  23 Batch    2/26   train_loss = 2.316\n",
      "Epoch  23 Batch   12/26   train_loss = 2.285\n",
      "Epoch  23 Batch   22/26   train_loss = 2.228\n",
      "Epoch  24 Batch    6/26   train_loss = 2.223\n",
      "Epoch  24 Batch   16/26   train_loss = 2.283\n",
      "Epoch  25 Batch    0/26   train_loss = 2.195\n",
      "Epoch  25 Batch   10/26   train_loss = 2.256\n",
      "Epoch  25 Batch   20/26   train_loss = 2.149\n",
      "Epoch  26 Batch    4/26   train_loss = 2.233\n",
      "Epoch  26 Batch   14/26   train_loss = 2.128\n",
      "Epoch  26 Batch   24/26   train_loss = 2.100\n",
      "Epoch  27 Batch    8/26   train_loss = 2.111\n",
      "Epoch  27 Batch   18/26   train_loss = 2.081\n",
      "Epoch  28 Batch    2/26   train_loss = 2.105\n",
      "Epoch  28 Batch   12/26   train_loss = 2.078\n",
      "Epoch  28 Batch   22/26   train_loss = 2.010\n",
      "Epoch  29 Batch    6/26   train_loss = 1.965\n",
      "Epoch  29 Batch   16/26   train_loss = 2.073\n",
      "Epoch  30 Batch    0/26   train_loss = 1.985\n",
      "Epoch  30 Batch   10/26   train_loss = 2.003\n",
      "Epoch  30 Batch   20/26   train_loss = 1.904\n",
      "Epoch  31 Batch    4/26   train_loss = 2.002\n",
      "Epoch  31 Batch   14/26   train_loss = 1.953\n",
      "Epoch  31 Batch   24/26   train_loss = 1.854\n",
      "Epoch  32 Batch    8/26   train_loss = 1.837\n",
      "Epoch  32 Batch   18/26   train_loss = 1.888\n",
      "Epoch  33 Batch    2/26   train_loss = 1.892\n",
      "Epoch  33 Batch   12/26   train_loss = 1.808\n",
      "Epoch  33 Batch   22/26   train_loss = 1.769\n",
      "Epoch  34 Batch    6/26   train_loss = 1.721\n",
      "Epoch  34 Batch   16/26   train_loss = 1.884\n",
      "Epoch  35 Batch    0/26   train_loss = 1.770\n",
      "Epoch  35 Batch   10/26   train_loss = 1.756\n",
      "Epoch  35 Batch   20/26   train_loss = 1.701\n",
      "Epoch  36 Batch    4/26   train_loss = 1.818\n",
      "Epoch  36 Batch   14/26   train_loss = 1.716\n",
      "Epoch  36 Batch   24/26   train_loss = 1.642\n",
      "Epoch  37 Batch    8/26   train_loss = 1.631\n",
      "Epoch  37 Batch   18/26   train_loss = 1.682\n",
      "Epoch  38 Batch    2/26   train_loss = 1.700\n",
      "Epoch  38 Batch   12/26   train_loss = 1.608\n",
      "Epoch  38 Batch   22/26   train_loss = 1.606\n",
      "Epoch  39 Batch    6/26   train_loss = 1.572\n",
      "Epoch  39 Batch   16/26   train_loss = 1.684\n",
      "Epoch  40 Batch    0/26   train_loss = 1.651\n",
      "Epoch  40 Batch   10/26   train_loss = 1.626\n",
      "Epoch  40 Batch   20/26   train_loss = 1.579\n",
      "Epoch  41 Batch    4/26   train_loss = 1.690\n",
      "Epoch  41 Batch   14/26   train_loss = 1.548\n",
      "Epoch  41 Batch   24/26   train_loss = 1.514\n",
      "Epoch  42 Batch    8/26   train_loss = 1.559\n",
      "Epoch  42 Batch   18/26   train_loss = 1.540\n",
      "Epoch  43 Batch    2/26   train_loss = 1.538\n",
      "Epoch  43 Batch   12/26   train_loss = 1.502\n",
      "Epoch  43 Batch   22/26   train_loss = 1.520\n",
      "Epoch  44 Batch    6/26   train_loss = 1.384\n",
      "Epoch  44 Batch   16/26   train_loss = 1.519\n",
      "Epoch  45 Batch    0/26   train_loss = 1.496\n",
      "Epoch  45 Batch   10/26   train_loss = 1.489\n",
      "Epoch  45 Batch   20/26   train_loss = 1.395\n",
      "Epoch  46 Batch    4/26   train_loss = 1.482\n",
      "Epoch  46 Batch   14/26   train_loss = 1.437\n",
      "Epoch  46 Batch   24/26   train_loss = 1.350\n",
      "Epoch  47 Batch    8/26   train_loss = 1.340\n",
      "Epoch  47 Batch   18/26   train_loss = 1.358\n",
      "Epoch  48 Batch    2/26   train_loss = 1.390\n",
      "Epoch  48 Batch   12/26   train_loss = 1.267\n",
      "Epoch  48 Batch   22/26   train_loss = 1.276\n",
      "Epoch  49 Batch    6/26   train_loss = 1.183\n",
      "Epoch  49 Batch   16/26   train_loss = 1.337\n",
      "Epoch  50 Batch    0/26   train_loss = 1.288\n",
      "Epoch  50 Batch   10/26   train_loss = 1.256\n",
      "Epoch  50 Batch   20/26   train_loss = 1.206\n",
      "Epoch  51 Batch    4/26   train_loss = 1.275\n",
      "Epoch  51 Batch   14/26   train_loss = 1.216\n",
      "Epoch  51 Batch   24/26   train_loss = 1.156\n",
      "Epoch  52 Batch    8/26   train_loss = 1.145\n",
      "Epoch  52 Batch   18/26   train_loss = 1.173\n",
      "Epoch  53 Batch    2/26   train_loss = 1.190\n",
      "Epoch  53 Batch   12/26   train_loss = 1.100\n",
      "Epoch  53 Batch   22/26   train_loss = 1.118\n",
      "Epoch  54 Batch    6/26   train_loss = 1.030\n",
      "Epoch  54 Batch   16/26   train_loss = 1.183\n",
      "Epoch  55 Batch    0/26   train_loss = 1.152\n",
      "Epoch  55 Batch   10/26   train_loss = 1.126\n",
      "Epoch  55 Batch   20/26   train_loss = 1.085\n",
      "Epoch  56 Batch    4/26   train_loss = 1.150\n",
      "Epoch  56 Batch   14/26   train_loss = 1.099\n",
      "Epoch  56 Batch   24/26   train_loss = 1.061\n",
      "Epoch  57 Batch    8/26   train_loss = 1.039\n",
      "Epoch  57 Batch   18/26   train_loss = 1.068\n",
      "Epoch  58 Batch    2/26   train_loss = 1.109\n",
      "Epoch  58 Batch   12/26   train_loss = 1.026\n",
      "Epoch  58 Batch   22/26   train_loss = 1.025\n",
      "Epoch  59 Batch    6/26   train_loss = 0.962\n",
      "Epoch  59 Batch   16/26   train_loss = 1.123\n",
      "Epoch  60 Batch    0/26   train_loss = 1.076\n",
      "Epoch  60 Batch   10/26   train_loss = 1.031\n",
      "Epoch  60 Batch   20/26   train_loss = 1.020\n",
      "Epoch  61 Batch    4/26   train_loss = 1.055\n",
      "Epoch  61 Batch   14/26   train_loss = 1.026\n",
      "Epoch  61 Batch   24/26   train_loss = 0.956\n",
      "Epoch  62 Batch    8/26   train_loss = 0.957\n",
      "Epoch  62 Batch   18/26   train_loss = 1.000\n",
      "Epoch  63 Batch    2/26   train_loss = 1.023\n",
      "Epoch  63 Batch   12/26   train_loss = 0.907\n",
      "Epoch  63 Batch   22/26   train_loss = 0.954\n",
      "Epoch  64 Batch    6/26   train_loss = 0.895\n",
      "Epoch  64 Batch   16/26   train_loss = 1.008\n",
      "Epoch  65 Batch    0/26   train_loss = 0.973\n",
      "Epoch  65 Batch   10/26   train_loss = 0.969\n",
      "Epoch  65 Batch   20/26   train_loss = 0.964\n",
      "Epoch  66 Batch    4/26   train_loss = 0.989\n",
      "Epoch  66 Batch   14/26   train_loss = 0.918\n",
      "Epoch  66 Batch   24/26   train_loss = 0.927\n",
      "Epoch  67 Batch    8/26   train_loss = 0.924\n",
      "Epoch  67 Batch   18/26   train_loss = 0.916\n",
      "Epoch  68 Batch    2/26   train_loss = 0.958\n",
      "Epoch  68 Batch   12/26   train_loss = 0.896\n",
      "Epoch  68 Batch   22/26   train_loss = 0.936\n",
      "Epoch  69 Batch    6/26   train_loss = 0.827\n",
      "Epoch  69 Batch   16/26   train_loss = 0.987\n",
      "Epoch  70 Batch    0/26   train_loss = 0.971\n",
      "Epoch  70 Batch   10/26   train_loss = 0.924\n",
      "Epoch  70 Batch   20/26   train_loss = 0.884\n",
      "Epoch  71 Batch    4/26   train_loss = 0.941\n",
      "Epoch  71 Batch   14/26   train_loss = 0.909\n",
      "Epoch  71 Batch   24/26   train_loss = 0.860\n",
      "Epoch  72 Batch    8/26   train_loss = 0.862\n",
      "Epoch  72 Batch   18/26   train_loss = 0.886\n",
      "Epoch  73 Batch    2/26   train_loss = 0.906\n",
      "Epoch  73 Batch   12/26   train_loss = 0.810\n",
      "Epoch  73 Batch   22/26   train_loss = 0.853\n",
      "Epoch  74 Batch    6/26   train_loss = 0.792\n",
      "Epoch  74 Batch   16/26   train_loss = 0.894\n",
      "Epoch  75 Batch    0/26   train_loss = 0.839\n",
      "Epoch  75 Batch   10/26   train_loss = 0.841\n",
      "Epoch  75 Batch   20/26   train_loss = 0.773\n",
      "Epoch  76 Batch    4/26   train_loss = 0.830\n",
      "Epoch  76 Batch   14/26   train_loss = 0.786\n",
      "Epoch  76 Batch   24/26   train_loss = 0.769\n",
      "Epoch  77 Batch    8/26   train_loss = 0.733\n",
      "Epoch  77 Batch   18/26   train_loss = 0.776\n",
      "Epoch  78 Batch    2/26   train_loss = 0.797\n",
      "Epoch  78 Batch   12/26   train_loss = 0.718\n",
      "Epoch  78 Batch   22/26   train_loss = 0.722\n",
      "Epoch  79 Batch    6/26   train_loss = 0.666\n",
      "Epoch  79 Batch   16/26   train_loss = 0.805\n",
      "Epoch  80 Batch    0/26   train_loss = 0.732\n",
      "Epoch  80 Batch   10/26   train_loss = 0.731\n",
      "Epoch  80 Batch   20/26   train_loss = 0.704\n",
      "Epoch  81 Batch    4/26   train_loss = 0.761\n",
      "Epoch  81 Batch   14/26   train_loss = 0.702\n",
      "Epoch  81 Batch   24/26   train_loss = 0.677\n",
      "Epoch  82 Batch    8/26   train_loss = 0.685\n",
      "Epoch  82 Batch   18/26   train_loss = 0.703\n",
      "Epoch  83 Batch    2/26   train_loss = 0.724\n",
      "Epoch  83 Batch   12/26   train_loss = 0.641\n",
      "Epoch  83 Batch   22/26   train_loss = 0.676\n",
      "Epoch  84 Batch    6/26   train_loss = 0.610\n",
      "Epoch  84 Batch   16/26   train_loss = 0.744\n",
      "Epoch  85 Batch    0/26   train_loss = 0.684\n",
      "Epoch  85 Batch   10/26   train_loss = 0.671\n",
      "Epoch  85 Batch   20/26   train_loss = 0.662\n",
      "Epoch  86 Batch    4/26   train_loss = 0.681\n",
      "Epoch  86 Batch   14/26   train_loss = 0.670\n",
      "Epoch  86 Batch   24/26   train_loss = 0.634\n",
      "Epoch  87 Batch    8/26   train_loss = 0.640\n",
      "Epoch  87 Batch   18/26   train_loss = 0.655\n",
      "Epoch  88 Batch    2/26   train_loss = 0.673\n",
      "Epoch  88 Batch   12/26   train_loss = 0.617\n",
      "Epoch  88 Batch   22/26   train_loss = 0.644\n",
      "Epoch  89 Batch    6/26   train_loss = 0.585\n",
      "Epoch  89 Batch   16/26   train_loss = 0.707\n",
      "Epoch  90 Batch    0/26   train_loss = 0.646\n",
      "Epoch  90 Batch   10/26   train_loss = 0.630\n",
      "Epoch  90 Batch   20/26   train_loss = 0.624\n",
      "Epoch  91 Batch    4/26   train_loss = 0.671\n",
      "Epoch  91 Batch   14/26   train_loss = 0.630\n",
      "Epoch  91 Batch   24/26   train_loss = 0.614\n",
      "Epoch  92 Batch    8/26   train_loss = 0.618\n",
      "Epoch  92 Batch   18/26   train_loss = 0.643\n",
      "Epoch  93 Batch    2/26   train_loss = 0.633\n",
      "Epoch  93 Batch   12/26   train_loss = 0.599\n",
      "Epoch  93 Batch   22/26   train_loss = 0.627\n",
      "Epoch  94 Batch    6/26   train_loss = 0.584\n",
      "Epoch  94 Batch   16/26   train_loss = 0.691\n",
      "Epoch  95 Batch    0/26   train_loss = 0.632\n",
      "Epoch  95 Batch   10/26   train_loss = 0.652\n",
      "Epoch  95 Batch   20/26   train_loss = 0.630\n",
      "Epoch  96 Batch    4/26   train_loss = 0.670\n",
      "Epoch  96 Batch   14/26   train_loss = 0.605\n",
      "Epoch  96 Batch   24/26   train_loss = 0.622\n",
      "Epoch  97 Batch    8/26   train_loss = 0.650\n",
      "Epoch  97 Batch   18/26   train_loss = 0.664\n",
      "Epoch  98 Batch    2/26   train_loss = 0.640\n",
      "Epoch  98 Batch   12/26   train_loss = 0.614\n",
      "Epoch  98 Batch   22/26   train_loss = 0.681\n",
      "Epoch  99 Batch    6/26   train_loss = 0.561\n",
      "Epoch  99 Batch   16/26   train_loss = 0.687\n",
      "Model Trained and Saved\n"
     ]
    }
   ],
   "source": [
    "\"\"\"\n",
    "DON'T MODIFY ANYTHING IN THIS CELL\n",
    "\"\"\"\n",
    "batches = get_batches(int_text, batch_size, seq_length)\n",
    "\n",
    "with tf.Session(graph=train_graph) as sess:\n",
    "    sess.run(tf.global_variables_initializer())\n",
    "\n",
    "    for epoch_i in range(num_epochs):\n",
    "        state = sess.run(initial_state, {input_text: batches[0][0]})\n",
    "\n",
    "        for batch_i, (x, y) in enumerate(batches):\n",
    "            feed = {\n",
    "                input_text: x,\n",
    "                targets: y,\n",
    "                initial_state: state,\n",
    "                lr: learning_rate}\n",
    "            train_loss, state, _ = sess.run([cost, final_state, train_op], feed)\n",
    "\n",
    "            # Show every <show_every_n_batches> batches\n",
    "            if (epoch_i * len(batches) + batch_i) % show_every_n_batches == 0:\n",
    "                print('Epoch {:>3} Batch {:>4}/{}   train_loss = {:.3f}'.format(\n",
    "                    epoch_i,\n",
    "                    batch_i,\n",
    "                    len(batches),\n",
    "                    train_loss))\n",
    "\n",
    "    # Save Model\n",
    "    saver = tf.train.Saver()\n",
    "    saver.save(sess, save_dir)\n",
    "    print('Model Trained and Saved')"
   ]
  },
  {
   "cell_type": "markdown",
   "metadata": {
    "deletable": true,
    "editable": true
   },
   "source": [
    "## Save Parameters\n",
    "Save `seq_length` and `save_dir` for generating a new TV script."
   ]
  },
  {
   "cell_type": "code",
   "execution_count": 73,
   "metadata": {
    "collapsed": false,
    "deletable": true,
    "editable": true
   },
   "outputs": [],
   "source": [
    "\"\"\"\n",
    "DON'T MODIFY ANYTHING IN THIS CELL\n",
    "\"\"\"\n",
    "# Save parameters for checkpoint\n",
    "helper.save_params((seq_length, save_dir))"
   ]
  },
  {
   "cell_type": "markdown",
   "metadata": {
    "deletable": true,
    "editable": true
   },
   "source": [
    "# Checkpoint"
   ]
  },
  {
   "cell_type": "code",
   "execution_count": 74,
   "metadata": {
    "collapsed": false,
    "deletable": true,
    "editable": true
   },
   "outputs": [],
   "source": [
    "\"\"\"\n",
    "DON'T MODIFY ANYTHING IN THIS CELL\n",
    "\"\"\"\n",
    "import tensorflow as tf\n",
    "import numpy as np\n",
    "import helper\n",
    "import problem_unittests as tests\n",
    "\n",
    "_, vocab_to_int, int_to_vocab, token_dict = helper.load_preprocess()\n",
    "seq_length, load_dir = helper.load_params()"
   ]
  },
  {
   "cell_type": "markdown",
   "metadata": {
    "deletable": true,
    "editable": true
   },
   "source": [
    "## Implement Generate Functions\n",
    "### Get Tensors\n",
    "Get tensors from `loaded_graph` using the function [`get_tensor_by_name()`](https://www.tensorflow.org/api_docs/python/tf/Graph#get_tensor_by_name).  Get the tensors using the following names:\n",
    "- \"input:0\"\n",
    "- \"initial_state:0\"\n",
    "- \"final_state:0\"\n",
    "- \"probs:0\"\n",
    "\n",
    "Return the tensors in the following tuple `(InputTensor, InitialStateTensor, FinalStateTensor, ProbsTensor)` "
   ]
  },
  {
   "cell_type": "code",
   "execution_count": 75,
   "metadata": {
    "collapsed": false,
    "deletable": true,
    "editable": true
   },
   "outputs": [
    {
     "name": "stdout",
     "output_type": "stream",
     "text": [
      "Tests Passed\n"
     ]
    }
   ],
   "source": [
    "def get_tensors(loaded_graph):\n",
    "    \"\"\"\n",
    "    Get input, initial state, final state, and probabilities tensor from <loaded_graph>\n",
    "    :param loaded_graph: TensorFlow graph loaded from file\n",
    "    :return: Tuple (InputTensor, InitialStateTensor, FinalStateTensor, ProbsTensor)\n",
    "    \"\"\"\n",
    "    # TODO: Implement Function\n",
    "    input_tensor = loaded_graph.get_tensor_by_name(name='input:0')\n",
    "    initial_state_tensor = loaded_graph.get_tensor_by_name(name='initial_state:0')\n",
    "    final_state_tensor = loaded_graph.get_tensor_by_name(name='final_state:0') \n",
    "    probs_tensor = loaded_graph.get_tensor_by_name(name='probs:0')\n",
    "    return input_tensor, initial_state_tensor, final_state_tensor, probs_tensor\n",
    "\n",
    "\"\"\"\n",
    "DON'T MODIFY ANYTHING IN THIS CELL THAT IS BELOW THIS LINE\n",
    "\"\"\"\n",
    "tests.test_get_tensors(get_tensors)"
   ]
  },
  {
   "cell_type": "markdown",
   "metadata": {
    "deletable": true,
    "editable": true
   },
   "source": [
    "### Choose Word\n",
    "Implement the `pick_word()` function to select the next word using `probabilities`."
   ]
  },
  {
   "cell_type": "code",
   "execution_count": 76,
   "metadata": {
    "collapsed": false,
    "deletable": true,
    "editable": true
   },
   "outputs": [
    {
     "name": "stdout",
     "output_type": "stream",
     "text": [
      "Tests Passed\n"
     ]
    }
   ],
   "source": [
    "def pick_word(probabilities, int_to_vocab):\n",
    "    \"\"\"\n",
    "    Pick the next word in the generated text\n",
    "    :param probabilities: Probabilites of the next word\n",
    "    :param int_to_vocab: Dictionary of word ids as the keys and words as the values\n",
    "    :return: String of the predicted word\n",
    "    \"\"\"\n",
    "    # TODO: Implement Function\n",
    "    max_id=np.argmax(probabilities)\n",
    "    return int_to_vocab[max_id]\n",
    "\n",
    "\"\"\"\n",
    "DON'T MODIFY ANYTHING IN THIS CELL THAT IS BELOW THIS LINE\n",
    "\"\"\"\n",
    "tests.test_pick_word(pick_word)"
   ]
  },
  {
   "cell_type": "markdown",
   "metadata": {
    "deletable": true,
    "editable": true
   },
   "source": [
    "## Generate TV Script\n",
    "This will generate the TV script for you.  Set `gen_length` to the length of TV script you want to generate."
   ]
  },
  {
   "cell_type": "code",
   "execution_count": 78,
   "metadata": {
    "collapsed": false,
    "deletable": true,
    "editable": true
   },
   "outputs": [
    {
     "name": "stdout",
     "output_type": "stream",
     "text": [
      "moe_szyslak:(to harv) i'm sorry, but the secret ingredient dies with me.\n",
      "delivery_man:(to moe) hey, it's time there look of a little glove slap to drink because of his head.\n",
      "\n",
      "\n",
      "moe_szyslak: hey, hey!(worried) can i look too!\n",
      "lenny_leonard: newsweek said you died of liver failure.\n",
      "\n",
      "\n",
      "moe_szyslak: okay, it's not like how we treat that.\n",
      "homer_simpson:(to himself) all right, tap! we're completing each other's...(then) eww... what about the media? they're not covering the issues, they actually feel affection for these knuckle-dragging sub-monkeys. i might as well join the money ever hug you ever heard.\n",
      "moe_szyslak: hey, no point in mopin' around.\n",
      "\n",
      "\n",
      "moe_szyslak: hey, hey, hey, hey, hey! don't want to do a beer?\n",
      "lenny_leonard: you can't let it up for the drink to wipe your mind clean... here's five people enjoy their beers. uh, you really think marge.\n"
     ]
    }
   ],
   "source": [
    "gen_length = 200\n",
    "# homer_simpson, moe_szyslak, or Barney_Gumble\n",
    "prime_word = 'moe_szyslak'\n",
    "\n",
    "\"\"\"\n",
    "DON'T MODIFY ANYTHING IN THIS CELL THAT IS BELOW THIS LINE\n",
    "\"\"\"\n",
    "loaded_graph = tf.Graph()\n",
    "with tf.Session(graph=loaded_graph) as sess:\n",
    "    # Load saved model\n",
    "    loader = tf.train.import_meta_graph(load_dir + '.meta')\n",
    "    loader.restore(sess, load_dir)\n",
    "\n",
    "    # Get Tensors from loaded model\n",
    "    input_text, initial_state, final_state, probs = get_tensors(loaded_graph)\n",
    "\n",
    "    # Sentences generation setup\n",
    "    gen_sentences = [prime_word + ':']\n",
    "    prev_state = sess.run(initial_state, {input_text: np.array([[1]])})\n",
    "\n",
    "    # Generate sentences\n",
    "    for n in range(gen_length):\n",
    "        # Dynamic Input\n",
    "        dyn_input = [[vocab_to_int[word] for word in gen_sentences[-seq_length:]]]\n",
    "        dyn_seq_length = len(dyn_input[0])\n",
    "\n",
    "        # Get Prediction\n",
    "        probabilities, prev_state = sess.run(\n",
    "            [probs, final_state],\n",
    "            {input_text: dyn_input, initial_state: prev_state})\n",
    "        \n",
    "        pred_word = pick_word(probabilities[dyn_seq_length-1], int_to_vocab)\n",
    "\n",
    "        gen_sentences.append(pred_word)\n",
    "    \n",
    "    # Remove tokens\n",
    "    tv_script = ' '.join(gen_sentences)\n",
    "    for key, token in token_dict.items():\n",
    "        ending = ' ' if key in ['\\n', '(', '\"'] else ''\n",
    "        tv_script = tv_script.replace(' ' + token.lower(), key)\n",
    "    tv_script = tv_script.replace('\\n ', '\\n')\n",
    "    tv_script = tv_script.replace('( ', '(')\n",
    "        \n",
    "    print(tv_script)"
   ]
  },
  {
   "cell_type": "markdown",
   "metadata": {
    "deletable": true,
    "editable": true
   },
   "source": [
    "# The TV Script is Nonsensical\n",
    "It's ok if the TV script doesn't make any sense.  We trained on less than a megabyte of text.  In order to get good results, you'll have to use a smaller vocabulary or get more data.  Luckly there's more data!  As we mentioned in the begging of this project, this is a subset of [another dataset](https://www.kaggle.com/wcukierski/the-simpsons-by-the-data).  We didn't have you train on all the data, because that would take too long.  However, you are free to train your neural network on all the data.  After you complete the project, of course.\n",
    "# Submitting This Project\n",
    "When submitting this project, make sure to run all the cells before saving the notebook. Save the notebook file as \"dlnd_tv_script_generation.ipynb\" and save it as a HTML file under \"File\" -> \"Download as\". Include the \"helper.py\" and \"problem_unittests.py\" files in your submission."
   ]
  }
 ],
 "metadata": {
  "kernelspec": {
   "display_name": "Python 3",
   "language": "python",
   "name": "python3"
  },
  "language_info": {
   "codemirror_mode": {
    "name": "ipython",
    "version": 3
   },
   "file_extension": ".py",
   "mimetype": "text/x-python",
   "name": "python",
   "nbconvert_exporter": "python",
   "pygments_lexer": "ipython3",
   "version": "3.5.0"
  },
  "widgets": {
   "state": {},
   "version": "1.1.2"
  }
 },
 "nbformat": 4,
 "nbformat_minor": 0
}
